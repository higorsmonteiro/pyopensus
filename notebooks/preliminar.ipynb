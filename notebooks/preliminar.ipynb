{
 "cells": [
  {
   "cell_type": "code",
   "execution_count": 67,
   "metadata": {},
   "outputs": [],
   "source": [
    "import os\n",
    "import sys\n",
    "sys.path.append('..')\n",
    "\n",
    "from pyopensus import Opensus"
   ]
  },
  {
   "cell_type": "code",
   "execution_count": 69,
   "metadata": {},
   "outputs": [],
   "source": [
    "host = 'ftp.datasus.gov.br'"
   ]
  },
  {
   "cell_type": "code",
   "execution_count": 35,
   "metadata": {},
   "outputs": [],
   "source": [
    "class Opensus:\n",
    "    '''\n",
    "    \n",
    "    '''\n",
    "    def __init__(self) -> None:\n",
    "        self.host = 'ftp.datasus.gov.br'\n",
    "        self.baseftp = FTP(self.host)\n",
    "        self.baseftp.login()\n",
    "        self.basepath = '/dissemin/publicos/'\n",
    "        \n",
    "        self.sys_included = {'sihsus': self.basepath+'SIHSUS/200801_/Dados/', \n",
    "                             'siasus': self.basepath+'SIASUS/200801_/Dados/'}\n",
    "        \n",
    "    def listdir(self, origin=None):\n",
    "        '''\n",
    "            ...\n",
    "        '''\n",
    "        if origin is None:\n",
    "            self.baseftp.cwd('/dissemin/publicos/')\n",
    "            self.baseftp.retrlines('LIST')\n",
    "        else:\n",
    "            if origin.lower() in self.sys_included.keys():\n",
    "                self.baseftp.cwd(self.sys_included[origin.lower()])\n",
    "                self.baseftp.retrlines('LIST')\n",
    "                \n",
    "    def retrieve_year(self, dest, origin, uf, year, mode=\"RD\", verbose=False):\n",
    "        '''\n",
    "            ...\n",
    "        '''\n",
    "        this_year = dt.date.today().year\n",
    "        if year < 2008 or year > 2023:\n",
    "            raise Exception() # --\n",
    "            \n",
    "        if origin.lower() not in self.sys_included.keys():\n",
    "            raise Exception() # --\n",
    "        else:\n",
    "            self.baseftp.cwd(self.sys_included[origin.lower()])\n",
    "            \n",
    "        year_str = f'{year}'[2:]\n",
    "        filename = f\"{mode}{uf.upper()}{year_str}\"\n",
    "        month_lst = ['01', '02', '03', '04', '05', '06', '07',\n",
    "                     '08', '09', '10', '11', '12']\n",
    "            \n",
    "        for cur_month in month_lst:\n",
    "            filename_ = f'{filename}{cur_month}.dbc'\n",
    "            if verbose:\n",
    "                print(f'Download do arquivo {filename_} ...', end='')\n",
    "                \n",
    "            with open(os.path.join(dest, filename_), 'wb') as fp:\n",
    "                self.baseftp.retrbinary(f'RETR {filename_}', fp.write)\n",
    "                \n",
    "            if verbose:\n",
    "                print(' Feito.')\n",
    "                \n",
    "        \n",
    "        "
   ]
  },
  {
   "cell_type": "code",
   "execution_count": 70,
   "metadata": {},
   "outputs": [],
   "source": [
    "obj = Opensus()"
   ]
  },
  {
   "cell_type": "code",
   "execution_count": 37,
   "metadata": {},
   "outputs": [],
   "source": [
    "#obj.listdir(origin='SIHSUS')"
   ]
  },
  {
   "cell_type": "code",
   "execution_count": 74,
   "metadata": {},
   "outputs": [
    {
     "name": "stdout",
     "output_type": "stream",
     "text": [
      "Download do arquivo RDCE1201.dbc ... Feito.\n",
      "Download do arquivo RDCE1202.dbc ... Feito.\n",
      "Download do arquivo RDCE1203.dbc ... Feito.\n",
      "Download do arquivo RDCE1204.dbc ... Feito.\n",
      "Download do arquivo RDCE1205.dbc ... Feito.\n",
      "Download do arquivo RDCE1206.dbc ... Feito.\n",
      "Download do arquivo RDCE1207.dbc ... Feito.\n",
      "Download do arquivo RDCE1208.dbc ... Feito.\n",
      "Download do arquivo RDCE1209.dbc ... Feito.\n",
      "Download do arquivo RDCE1210.dbc ... Feito.\n",
      "Download do arquivo RDCE1211.dbc ... Feito.\n",
      "Download do arquivo RDCE1212.dbc ... Feito.\n",
      "Download do arquivo RDCE1301.dbc ... Feito.\n",
      "Download do arquivo RDCE1302.dbc ... Feito.\n",
      "Download do arquivo RDCE1303.dbc ... Feito.\n",
      "Download do arquivo RDCE1304.dbc ... Feito.\n",
      "Download do arquivo RDCE1305.dbc ... Feito.\n",
      "Download do arquivo RDCE1306.dbc ... Feito.\n",
      "Download do arquivo RDCE1307.dbc ... Feito.\n",
      "Download do arquivo RDCE1308.dbc ... Feito.\n",
      "Download do arquivo RDCE1309.dbc ... Feito.\n",
      "Download do arquivo RDCE1310.dbc ... Feito.\n",
      "Download do arquivo RDCE1311.dbc ... Feito.\n",
      "Download do arquivo RDCE1312.dbc ... Feito.\n",
      "Download do arquivo RDCE1401.dbc ... Feito.\n",
      "Download do arquivo RDCE1402.dbc ... Feito.\n",
      "Download do arquivo RDCE1403.dbc ... Feito.\n",
      "Download do arquivo RDCE1404.dbc ... Feito.\n",
      "Download do arquivo RDCE1405.dbc ... Feito.\n",
      "Download do arquivo RDCE1406.dbc ... Feito.\n",
      "Download do arquivo RDCE1407.dbc ... Feito.\n",
      "Download do arquivo RDCE1408.dbc ... Feito.\n",
      "Download do arquivo RDCE1409.dbc ... Feito.\n",
      "Download do arquivo RDCE1410.dbc ... Feito.\n",
      "Download do arquivo RDCE1411.dbc ... Feito.\n",
      "Download do arquivo RDCE1412.dbc ... Feito.\n",
      "Download do arquivo RDCE1501.dbc ... Feito.\n",
      "Download do arquivo RDCE1502.dbc ... Feito.\n",
      "Download do arquivo RDCE1503.dbc ... Feito.\n",
      "Download do arquivo RDCE1504.dbc ... Feito.\n",
      "Download do arquivo RDCE1505.dbc ... Feito.\n",
      "Download do arquivo RDCE1506.dbc ... Feito.\n",
      "Download do arquivo RDCE1507.dbc ... Feito.\n",
      "Download do arquivo RDCE1508.dbc ... Feito.\n",
      "Download do arquivo RDCE1509.dbc ... Feito.\n",
      "Download do arquivo RDCE1510.dbc ... Feito.\n",
      "Download do arquivo RDCE1511.dbc ... Feito.\n",
      "Download do arquivo RDCE1512.dbc ... Feito.\n",
      "Download do arquivo RDCE1601.dbc ... Feito.\n",
      "Download do arquivo RDCE1602.dbc ... Feito.\n",
      "Download do arquivo RDCE1603.dbc ... Feito.\n",
      "Download do arquivo RDCE1604.dbc ... Feito.\n",
      "Download do arquivo RDCE1605.dbc ... Feito.\n",
      "Download do arquivo RDCE1606.dbc ... Feito.\n",
      "Download do arquivo RDCE1607.dbc ... Feito.\n",
      "Download do arquivo RDCE1608.dbc ... Feito.\n",
      "Download do arquivo RDCE1609.dbc ... Feito.\n",
      "Download do arquivo RDCE1610.dbc ... Feito.\n",
      "Download do arquivo RDCE1611.dbc ... Feito.\n",
      "Download do arquivo RDCE1612.dbc ... Feito.\n",
      "Download do arquivo RDCE1701.dbc ... Feito.\n",
      "Download do arquivo RDCE1702.dbc ... Feito.\n",
      "Download do arquivo RDCE1703.dbc ... Feito.\n",
      "Download do arquivo RDCE1704.dbc ... Feito.\n",
      "Download do arquivo RDCE1705.dbc ... Feito.\n",
      "Download do arquivo RDCE1706.dbc ... Feito.\n",
      "Download do arquivo RDCE1707.dbc ... Feito.\n",
      "Download do arquivo RDCE1708.dbc ... Feito.\n",
      "Download do arquivo RDCE1709.dbc ... Feito.\n",
      "Download do arquivo RDCE1710.dbc ... Feito.\n",
      "Download do arquivo RDCE1711.dbc ... Feito.\n",
      "Download do arquivo RDCE1712.dbc ... Feito.\n",
      "Download do arquivo RDCE1801.dbc ... Feito.\n",
      "Download do arquivo RDCE1802.dbc ... Feito.\n",
      "Download do arquivo RDCE1803.dbc ... Feito.\n",
      "Download do arquivo RDCE1804.dbc ... Feito.\n",
      "Download do arquivo RDCE1805.dbc ... Feito.\n",
      "Download do arquivo RDCE1806.dbc ... Feito.\n",
      "Download do arquivo RDCE1807.dbc ... Feito.\n",
      "Download do arquivo RDCE1808.dbc ... Feito.\n",
      "Download do arquivo RDCE1809.dbc ... Feito.\n",
      "Download do arquivo RDCE1810.dbc ... Feito.\n",
      "Download do arquivo RDCE1811.dbc ... Feito.\n",
      "Download do arquivo RDCE1812.dbc ... Feito.\n",
      "Download do arquivo RDCE1901.dbc ... Feito.\n",
      "Download do arquivo RDCE1902.dbc ... Feito.\n",
      "Download do arquivo RDCE1903.dbc ... Feito.\n",
      "Download do arquivo RDCE1904.dbc ... Feito.\n",
      "Download do arquivo RDCE1905.dbc ... Feito.\n",
      "Download do arquivo RDCE1906.dbc ... Feito.\n",
      "Download do arquivo RDCE1907.dbc ... Feito.\n",
      "Download do arquivo RDCE1908.dbc ... Feito.\n",
      "Download do arquivo RDCE1909.dbc ... Feito.\n",
      "Download do arquivo RDCE1910.dbc ... Feito.\n",
      "Download do arquivo RDCE1911.dbc ... Feito.\n",
      "Download do arquivo RDCE1912.dbc ... Feito.\n",
      "Download do arquivo RDCE2001.dbc ... Feito.\n",
      "Download do arquivo RDCE2002.dbc ... Feito.\n",
      "Download do arquivo RDCE2003.dbc ... Feito.\n",
      "Download do arquivo RDCE2004.dbc ... Feito.\n",
      "Download do arquivo RDCE2005.dbc ... Feito.\n",
      "Download do arquivo RDCE2006.dbc ... Feito.\n",
      "Download do arquivo RDCE2007.dbc ... Feito.\n",
      "Download do arquivo RDCE2008.dbc ... Feito.\n",
      "Download do arquivo RDCE2009.dbc ... Feito.\n",
      "Download do arquivo RDCE2010.dbc ... Feito.\n",
      "Download do arquivo RDCE2011.dbc ... Feito.\n",
      "Download do arquivo RDCE2012.dbc ... Feito.\n",
      "Download do arquivo RDCE2101.dbc ... Feito.\n",
      "Download do arquivo RDCE2102.dbc ... Feito.\n",
      "Download do arquivo RDCE2103.dbc ... Feito.\n",
      "Download do arquivo RDCE2104.dbc ... Feito.\n",
      "Download do arquivo RDCE2105.dbc ... Feito.\n",
      "Download do arquivo RDCE2106.dbc ... Feito.\n",
      "Download do arquivo RDCE2107.dbc ... Feito.\n",
      "Download do arquivo RDCE2108.dbc ... Feito.\n",
      "Download do arquivo RDCE2109.dbc ... Feito.\n",
      "Download do arquivo RDCE2110.dbc ... Feito.\n",
      "Download do arquivo RDCE2111.dbc ... Feito.\n",
      "Download do arquivo RDCE2112.dbc ... Feito.\n",
      "Download do arquivo RDCE2201.dbc ... Feito.\n",
      "Download do arquivo RDCE2202.dbc ... Feito.\n",
      "Download do arquivo RDCE2203.dbc ... Feito.\n",
      "Download do arquivo RDCE2204.dbc ... Feito.\n",
      "Download do arquivo RDCE2205.dbc ... Feito.\n",
      "Download do arquivo RDCE2206.dbc ... Feito.\n",
      "Download do arquivo RDCE2207.dbc ... Feito.\n",
      "Download do arquivo RDCE2208.dbc ... Feito.\n",
      "Download do arquivo RDCE2209.dbc ... Feito.\n",
      "Download do arquivo RDCE2210.dbc ... Feito.\n",
      "Download do arquivo RDCE2211.dbc ... Feito.\n",
      "Download do arquivo RDCE2212.dbc ... Feito.\n",
      "Download do arquivo RDCE2301.dbc ... Feito.\n",
      "Download do arquivo RDCE2302.dbc ... Feito.\n",
      "Download do arquivo RDCE2303.dbc ... Feito.\n",
      "Download do arquivo RDCE2304.dbc ... Feito.\n",
      "Download do arquivo RDCE2305.dbc ... Feito.\n",
      "Download do arquivo RDCE2306.dbc ... Feito.\n",
      "Download do arquivo RDCE2307.dbc ... Feito.\n",
      "Download do arquivo RDCE2308.dbc ... Feito.\n",
      "Download do arquivo RDCE2309.dbc ..."
     ]
    },
    {
     "ename": "error_perm",
     "evalue": "550 The system cannot find the file specified. ",
     "output_type": "error",
     "traceback": [
      "\u001b[1;31m---------------------------------------------------------------------------\u001b[0m",
      "\u001b[1;31merror_perm\u001b[0m                                Traceback (most recent call last)",
      "Cell \u001b[1;32mIn[74], line 4\u001b[0m\n\u001b[0;32m      1\u001b[0m dest \u001b[38;5;241m=\u001b[39m os\u001b[38;5;241m.\u001b[39mpath\u001b[38;5;241m.\u001b[39mjoin(os\u001b[38;5;241m.\u001b[39menviron[\u001b[38;5;124m'\u001b[39m\u001b[38;5;124mHOMEPATH\u001b[39m\u001b[38;5;124m'\u001b[39m], \u001b[38;5;124m'\u001b[39m\u001b[38;5;124mDocuments\u001b[39m\u001b[38;5;124m'\u001b[39m, \u001b[38;5;124m'\u001b[39m\u001b[38;5;124mdata\u001b[39m\u001b[38;5;124m'\u001b[39m, \u001b[38;5;124m'\u001b[39m\u001b[38;5;124mopendatasus\u001b[39m\u001b[38;5;124m'\u001b[39m, \u001b[38;5;124m'\u001b[39m\u001b[38;5;124msihsus\u001b[39m\u001b[38;5;124m'\u001b[39m)\n\u001b[0;32m      3\u001b[0m \u001b[38;5;28;01mfor\u001b[39;00m year \u001b[38;5;129;01min\u001b[39;00m \u001b[38;5;28mrange\u001b[39m(\u001b[38;5;241m2012\u001b[39m, \u001b[38;5;241m2024\u001b[39m):\n\u001b[1;32m----> 4\u001b[0m     \u001b[43mobj\u001b[49m\u001b[38;5;241;43m.\u001b[39;49m\u001b[43mretrieve_year\u001b[49m\u001b[43m(\u001b[49m\u001b[43mdest\u001b[49m\u001b[43m,\u001b[49m\u001b[43m \u001b[49m\u001b[38;5;124;43m'\u001b[39;49m\u001b[38;5;124;43msihsus\u001b[39;49m\u001b[38;5;124;43m'\u001b[39;49m\u001b[43m,\u001b[49m\u001b[43m \u001b[49m\u001b[38;5;124;43m'\u001b[39;49m\u001b[38;5;124;43mce\u001b[39;49m\u001b[38;5;124;43m'\u001b[39;49m\u001b[43m,\u001b[49m\u001b[43m \u001b[49m\u001b[43myear\u001b[49m\u001b[43m,\u001b[49m\u001b[43m \u001b[49m\u001b[43mmode\u001b[49m\u001b[38;5;241;43m=\u001b[39;49m\u001b[38;5;124;43m'\u001b[39;49m\u001b[38;5;124;43mRD\u001b[39;49m\u001b[38;5;124;43m'\u001b[39;49m\u001b[43m,\u001b[49m\u001b[43m \u001b[49m\u001b[43mverbose\u001b[49m\u001b[38;5;241;43m=\u001b[39;49m\u001b[38;5;28;43;01mTrue\u001b[39;49;00m\u001b[43m)\u001b[49m\n",
      "File \u001b[1;32m~\\Documents\\code\\pyopensus\\notebooks\\..\\pyopensus\\opensus.py:85\u001b[0m, in \u001b[0;36mOpensus.retrieve_year\u001b[1;34m(self, dest, origin, uf, year, mode, verbose)\u001b[0m\n\u001b[0;32m     82\u001b[0m     \u001b[38;5;28mprint\u001b[39m(\u001b[38;5;124mf\u001b[39m\u001b[38;5;124m'\u001b[39m\u001b[38;5;124mDownload do arquivo \u001b[39m\u001b[38;5;132;01m{\u001b[39;00mfilename_\u001b[38;5;132;01m}\u001b[39;00m\u001b[38;5;124m ...\u001b[39m\u001b[38;5;124m'\u001b[39m, end\u001b[38;5;241m=\u001b[39m\u001b[38;5;124m'\u001b[39m\u001b[38;5;124m'\u001b[39m)\n\u001b[0;32m     84\u001b[0m \u001b[38;5;28;01mwith\u001b[39;00m \u001b[38;5;28mopen\u001b[39m(os\u001b[38;5;241m.\u001b[39mpath\u001b[38;5;241m.\u001b[39mjoin(dest, filename_), \u001b[38;5;124m'\u001b[39m\u001b[38;5;124mwb\u001b[39m\u001b[38;5;124m'\u001b[39m) \u001b[38;5;28;01mas\u001b[39;00m fp:\n\u001b[1;32m---> 85\u001b[0m     \u001b[38;5;28;43mself\u001b[39;49m\u001b[38;5;241;43m.\u001b[39;49m\u001b[43mbaseftp\u001b[49m\u001b[38;5;241;43m.\u001b[39;49m\u001b[43mretrbinary\u001b[49m\u001b[43m(\u001b[49m\u001b[38;5;124;43mf\u001b[39;49m\u001b[38;5;124;43m'\u001b[39;49m\u001b[38;5;124;43mRETR \u001b[39;49m\u001b[38;5;132;43;01m{\u001b[39;49;00m\u001b[43mfilename_\u001b[49m\u001b[38;5;132;43;01m}\u001b[39;49;00m\u001b[38;5;124;43m'\u001b[39;49m\u001b[43m,\u001b[49m\u001b[43m \u001b[49m\u001b[43mfp\u001b[49m\u001b[38;5;241;43m.\u001b[39;49m\u001b[43mwrite\u001b[49m\u001b[43m)\u001b[49m\n\u001b[0;32m     87\u001b[0m \u001b[38;5;28;01mif\u001b[39;00m verbose:\n\u001b[0;32m     88\u001b[0m     \u001b[38;5;28mprint\u001b[39m(\u001b[38;5;124m'\u001b[39m\u001b[38;5;124m Feito.\u001b[39m\u001b[38;5;124m'\u001b[39m)\n",
      "File \u001b[1;32m~\\AppData\\Local\\anaconda3\\envs\\sevig\\Lib\\ftplib.py:436\u001b[0m, in \u001b[0;36mFTP.retrbinary\u001b[1;34m(self, cmd, callback, blocksize, rest)\u001b[0m\n\u001b[0;32m    422\u001b[0m \u001b[38;5;250m\u001b[39m\u001b[38;5;124;03m\"\"\"Retrieve data in binary mode.  A new port is created for you.\u001b[39;00m\n\u001b[0;32m    423\u001b[0m \n\u001b[0;32m    424\u001b[0m \u001b[38;5;124;03mArgs:\u001b[39;00m\n\u001b[1;32m   (...)\u001b[0m\n\u001b[0;32m    433\u001b[0m \u001b[38;5;124;03m  The response code.\u001b[39;00m\n\u001b[0;32m    434\u001b[0m \u001b[38;5;124;03m\"\"\"\u001b[39;00m\n\u001b[0;32m    435\u001b[0m \u001b[38;5;28mself\u001b[39m\u001b[38;5;241m.\u001b[39mvoidcmd(\u001b[38;5;124m'\u001b[39m\u001b[38;5;124mTYPE I\u001b[39m\u001b[38;5;124m'\u001b[39m)\n\u001b[1;32m--> 436\u001b[0m \u001b[38;5;28;01mwith\u001b[39;00m \u001b[38;5;28;43mself\u001b[39;49m\u001b[38;5;241;43m.\u001b[39;49m\u001b[43mtransfercmd\u001b[49m\u001b[43m(\u001b[49m\u001b[43mcmd\u001b[49m\u001b[43m,\u001b[49m\u001b[43m \u001b[49m\u001b[43mrest\u001b[49m\u001b[43m)\u001b[49m \u001b[38;5;28;01mas\u001b[39;00m conn:\n\u001b[0;32m    437\u001b[0m     \u001b[38;5;28;01mwhile\u001b[39;00m \u001b[38;5;241m1\u001b[39m:\n\u001b[0;32m    438\u001b[0m         data \u001b[38;5;241m=\u001b[39m conn\u001b[38;5;241m.\u001b[39mrecv(blocksize)\n",
      "File \u001b[1;32m~\\AppData\\Local\\anaconda3\\envs\\sevig\\Lib\\ftplib.py:393\u001b[0m, in \u001b[0;36mFTP.transfercmd\u001b[1;34m(self, cmd, rest)\u001b[0m\n\u001b[0;32m    391\u001b[0m \u001b[38;5;28;01mdef\u001b[39;00m \u001b[38;5;21mtransfercmd\u001b[39m(\u001b[38;5;28mself\u001b[39m, cmd, rest\u001b[38;5;241m=\u001b[39m\u001b[38;5;28;01mNone\u001b[39;00m):\n\u001b[0;32m    392\u001b[0m \u001b[38;5;250m    \u001b[39m\u001b[38;5;124;03m\"\"\"Like ntransfercmd() but returns only the socket.\"\"\"\u001b[39;00m\n\u001b[1;32m--> 393\u001b[0m     \u001b[38;5;28;01mreturn\u001b[39;00m \u001b[38;5;28;43mself\u001b[39;49m\u001b[38;5;241;43m.\u001b[39;49m\u001b[43mntransfercmd\u001b[49m\u001b[43m(\u001b[49m\u001b[43mcmd\u001b[49m\u001b[43m,\u001b[49m\u001b[43m \u001b[49m\u001b[43mrest\u001b[49m\u001b[43m)\u001b[49m[\u001b[38;5;241m0\u001b[39m]\n",
      "File \u001b[1;32m~\\AppData\\Local\\anaconda3\\envs\\sevig\\Lib\\ftplib.py:359\u001b[0m, in \u001b[0;36mFTP.ntransfercmd\u001b[1;34m(self, cmd, rest)\u001b[0m\n\u001b[0;32m    357\u001b[0m \u001b[38;5;28;01mif\u001b[39;00m rest \u001b[38;5;129;01mis\u001b[39;00m \u001b[38;5;129;01mnot\u001b[39;00m \u001b[38;5;28;01mNone\u001b[39;00m:\n\u001b[0;32m    358\u001b[0m     \u001b[38;5;28mself\u001b[39m\u001b[38;5;241m.\u001b[39msendcmd(\u001b[38;5;124m\"\u001b[39m\u001b[38;5;124mREST \u001b[39m\u001b[38;5;132;01m%s\u001b[39;00m\u001b[38;5;124m\"\u001b[39m \u001b[38;5;241m%\u001b[39m rest)\n\u001b[1;32m--> 359\u001b[0m resp \u001b[38;5;241m=\u001b[39m \u001b[38;5;28;43mself\u001b[39;49m\u001b[38;5;241;43m.\u001b[39;49m\u001b[43msendcmd\u001b[49m\u001b[43m(\u001b[49m\u001b[43mcmd\u001b[49m\u001b[43m)\u001b[49m\n\u001b[0;32m    360\u001b[0m \u001b[38;5;66;03m# Some servers apparently send a 200 reply to\u001b[39;00m\n\u001b[0;32m    361\u001b[0m \u001b[38;5;66;03m# a LIST or STOR command, before the 150 reply\u001b[39;00m\n\u001b[0;32m    362\u001b[0m \u001b[38;5;66;03m# (and way before the 226 reply). This seems to\u001b[39;00m\n\u001b[0;32m    363\u001b[0m \u001b[38;5;66;03m# be in violation of the protocol (which only allows\u001b[39;00m\n\u001b[0;32m    364\u001b[0m \u001b[38;5;66;03m# 1xx or error messages for LIST), so we just discard\u001b[39;00m\n\u001b[0;32m    365\u001b[0m \u001b[38;5;66;03m# this response.\u001b[39;00m\n\u001b[0;32m    366\u001b[0m \u001b[38;5;28;01mif\u001b[39;00m resp[\u001b[38;5;241m0\u001b[39m] \u001b[38;5;241m==\u001b[39m \u001b[38;5;124m'\u001b[39m\u001b[38;5;124m2\u001b[39m\u001b[38;5;124m'\u001b[39m:\n",
      "File \u001b[1;32m~\\AppData\\Local\\anaconda3\\envs\\sevig\\Lib\\ftplib.py:281\u001b[0m, in \u001b[0;36mFTP.sendcmd\u001b[1;34m(self, cmd)\u001b[0m\n\u001b[0;32m    279\u001b[0m \u001b[38;5;250m\u001b[39m\u001b[38;5;124;03m'''Send a command and return the response.'''\u001b[39;00m\n\u001b[0;32m    280\u001b[0m \u001b[38;5;28mself\u001b[39m\u001b[38;5;241m.\u001b[39mputcmd(cmd)\n\u001b[1;32m--> 281\u001b[0m \u001b[38;5;28;01mreturn\u001b[39;00m \u001b[38;5;28;43mself\u001b[39;49m\u001b[38;5;241;43m.\u001b[39;49m\u001b[43mgetresp\u001b[49m\u001b[43m(\u001b[49m\u001b[43m)\u001b[49m\n",
      "File \u001b[1;32m~\\AppData\\Local\\anaconda3\\envs\\sevig\\Lib\\ftplib.py:254\u001b[0m, in \u001b[0;36mFTP.getresp\u001b[1;34m(self)\u001b[0m\n\u001b[0;32m    252\u001b[0m     \u001b[38;5;28;01mraise\u001b[39;00m error_temp(resp)\n\u001b[0;32m    253\u001b[0m \u001b[38;5;28;01mif\u001b[39;00m c \u001b[38;5;241m==\u001b[39m \u001b[38;5;124m'\u001b[39m\u001b[38;5;124m5\u001b[39m\u001b[38;5;124m'\u001b[39m:\n\u001b[1;32m--> 254\u001b[0m     \u001b[38;5;28;01mraise\u001b[39;00m error_perm(resp)\n\u001b[0;32m    255\u001b[0m \u001b[38;5;28;01mraise\u001b[39;00m error_proto(resp)\n",
      "\u001b[1;31merror_perm\u001b[0m: 550 The system cannot find the file specified. "
     ]
    }
   ],
   "source": [
    "dest = os.path.join(os.environ['HOMEPATH'], 'Documents', 'data', 'opendatasus', 'sihsus')\n",
    "\n",
    "for year in range(2012, 2024):\n",
    "    obj.retrieve_year(dest, 'sihsus', 'ce', year, mode='RD', verbose=True)"
   ]
  },
  {
   "cell_type": "code",
   "execution_count": 57,
   "metadata": {},
   "outputs": [
    {
     "ename": "ConnectionResetError",
     "evalue": "[WinError 10054] Foi forçado o cancelamento de uma conexão existente pelo host remoto",
     "output_type": "error",
     "traceback": [
      "\u001b[1;31m---------------------------------------------------------------------------\u001b[0m",
      "\u001b[1;31mConnectionResetError\u001b[0m                      Traceback (most recent call last)",
      "Cell \u001b[1;32mIn[57], line 1\u001b[0m\n\u001b[1;32m----> 1\u001b[0m \u001b[43mobj\u001b[49m\u001b[38;5;241;43m.\u001b[39;49m\u001b[43mbaseftp\u001b[49m\u001b[38;5;241;43m.\u001b[39;49m\u001b[43mlogin\u001b[49m\u001b[43m(\u001b[49m\u001b[43m)\u001b[49m\n",
      "File \u001b[1;32m~\\AppData\\Local\\anaconda3\\envs\\sevig\\Lib\\ftplib.py:412\u001b[0m, in \u001b[0;36mFTP.login\u001b[1;34m(self, user, passwd, acct)\u001b[0m\n\u001b[0;32m    403\u001b[0m \u001b[38;5;28;01mif\u001b[39;00m user \u001b[38;5;241m==\u001b[39m \u001b[38;5;124m'\u001b[39m\u001b[38;5;124manonymous\u001b[39m\u001b[38;5;124m'\u001b[39m \u001b[38;5;129;01mand\u001b[39;00m passwd \u001b[38;5;129;01min\u001b[39;00m {\u001b[38;5;124m'\u001b[39m\u001b[38;5;124m'\u001b[39m, \u001b[38;5;124m'\u001b[39m\u001b[38;5;124m-\u001b[39m\u001b[38;5;124m'\u001b[39m}:\n\u001b[0;32m    404\u001b[0m     \u001b[38;5;66;03m# If there is no anonymous ftp password specified\u001b[39;00m\n\u001b[0;32m    405\u001b[0m     \u001b[38;5;66;03m# then we'll just use anonymous@\u001b[39;00m\n\u001b[1;32m   (...)\u001b[0m\n\u001b[0;32m    409\u001b[0m     \u001b[38;5;66;03m# - We don't want to let ftp sites to discriminate by the user,\u001b[39;00m\n\u001b[0;32m    410\u001b[0m     \u001b[38;5;66;03m#   host or country.\u001b[39;00m\n\u001b[0;32m    411\u001b[0m     passwd \u001b[38;5;241m=\u001b[39m passwd \u001b[38;5;241m+\u001b[39m \u001b[38;5;124m'\u001b[39m\u001b[38;5;124manonymous@\u001b[39m\u001b[38;5;124m'\u001b[39m\n\u001b[1;32m--> 412\u001b[0m resp \u001b[38;5;241m=\u001b[39m \u001b[38;5;28;43mself\u001b[39;49m\u001b[38;5;241;43m.\u001b[39;49m\u001b[43msendcmd\u001b[49m\u001b[43m(\u001b[49m\u001b[38;5;124;43m'\u001b[39;49m\u001b[38;5;124;43mUSER \u001b[39;49m\u001b[38;5;124;43m'\u001b[39;49m\u001b[43m \u001b[49m\u001b[38;5;241;43m+\u001b[39;49m\u001b[43m \u001b[49m\u001b[43muser\u001b[49m\u001b[43m)\u001b[49m\n\u001b[0;32m    413\u001b[0m \u001b[38;5;28;01mif\u001b[39;00m resp[\u001b[38;5;241m0\u001b[39m] \u001b[38;5;241m==\u001b[39m \u001b[38;5;124m'\u001b[39m\u001b[38;5;124m3\u001b[39m\u001b[38;5;124m'\u001b[39m:\n\u001b[0;32m    414\u001b[0m     resp \u001b[38;5;241m=\u001b[39m \u001b[38;5;28mself\u001b[39m\u001b[38;5;241m.\u001b[39msendcmd(\u001b[38;5;124m'\u001b[39m\u001b[38;5;124mPASS \u001b[39m\u001b[38;5;124m'\u001b[39m \u001b[38;5;241m+\u001b[39m passwd)\n",
      "File \u001b[1;32m~\\AppData\\Local\\anaconda3\\envs\\sevig\\Lib\\ftplib.py:280\u001b[0m, in \u001b[0;36mFTP.sendcmd\u001b[1;34m(self, cmd)\u001b[0m\n\u001b[0;32m    278\u001b[0m \u001b[38;5;28;01mdef\u001b[39;00m \u001b[38;5;21msendcmd\u001b[39m(\u001b[38;5;28mself\u001b[39m, cmd):\n\u001b[0;32m    279\u001b[0m \u001b[38;5;250m    \u001b[39m\u001b[38;5;124;03m'''Send a command and return the response.'''\u001b[39;00m\n\u001b[1;32m--> 280\u001b[0m     \u001b[38;5;28;43mself\u001b[39;49m\u001b[38;5;241;43m.\u001b[39;49m\u001b[43mputcmd\u001b[49m\u001b[43m(\u001b[49m\u001b[43mcmd\u001b[49m\u001b[43m)\u001b[49m\n\u001b[0;32m    281\u001b[0m     \u001b[38;5;28;01mreturn\u001b[39;00m \u001b[38;5;28mself\u001b[39m\u001b[38;5;241m.\u001b[39mgetresp()\n",
      "File \u001b[1;32m~\\AppData\\Local\\anaconda3\\envs\\sevig\\Lib\\ftplib.py:207\u001b[0m, in \u001b[0;36mFTP.putcmd\u001b[1;34m(self, line)\u001b[0m\n\u001b[0;32m    205\u001b[0m \u001b[38;5;28;01mdef\u001b[39;00m \u001b[38;5;21mputcmd\u001b[39m(\u001b[38;5;28mself\u001b[39m, line):\n\u001b[0;32m    206\u001b[0m     \u001b[38;5;28;01mif\u001b[39;00m \u001b[38;5;28mself\u001b[39m\u001b[38;5;241m.\u001b[39mdebugging: \u001b[38;5;28mprint\u001b[39m(\u001b[38;5;124m'\u001b[39m\u001b[38;5;124m*cmd*\u001b[39m\u001b[38;5;124m'\u001b[39m, \u001b[38;5;28mself\u001b[39m\u001b[38;5;241m.\u001b[39msanitize(line))\n\u001b[1;32m--> 207\u001b[0m     \u001b[38;5;28;43mself\u001b[39;49m\u001b[38;5;241;43m.\u001b[39;49m\u001b[43mputline\u001b[49m\u001b[43m(\u001b[49m\u001b[43mline\u001b[49m\u001b[43m)\u001b[49m\n",
      "File \u001b[1;32m~\\AppData\\Local\\anaconda3\\envs\\sevig\\Lib\\ftplib.py:202\u001b[0m, in \u001b[0;36mFTP.putline\u001b[1;34m(self, line)\u001b[0m\n\u001b[0;32m    200\u001b[0m \u001b[38;5;28;01mif\u001b[39;00m \u001b[38;5;28mself\u001b[39m\u001b[38;5;241m.\u001b[39mdebugging \u001b[38;5;241m>\u001b[39m \u001b[38;5;241m1\u001b[39m:\n\u001b[0;32m    201\u001b[0m     \u001b[38;5;28mprint\u001b[39m(\u001b[38;5;124m'\u001b[39m\u001b[38;5;124m*put*\u001b[39m\u001b[38;5;124m'\u001b[39m, \u001b[38;5;28mself\u001b[39m\u001b[38;5;241m.\u001b[39msanitize(line))\n\u001b[1;32m--> 202\u001b[0m \u001b[38;5;28;43mself\u001b[39;49m\u001b[38;5;241;43m.\u001b[39;49m\u001b[43msock\u001b[49m\u001b[38;5;241;43m.\u001b[39;49m\u001b[43msendall\u001b[49m\u001b[43m(\u001b[49m\u001b[43mline\u001b[49m\u001b[38;5;241;43m.\u001b[39;49m\u001b[43mencode\u001b[49m\u001b[43m(\u001b[49m\u001b[38;5;28;43mself\u001b[39;49m\u001b[38;5;241;43m.\u001b[39;49m\u001b[43mencoding\u001b[49m\u001b[43m)\u001b[49m\u001b[43m)\u001b[49m\n",
      "\u001b[1;31mConnectionResetError\u001b[0m: [WinError 10054] Foi forçado o cancelamento de uma conexão existente pelo host remoto"
     ]
    }
   ],
   "source": [
    "obj.baseftp.login()"
   ]
  },
  {
   "cell_type": "code",
   "execution_count": 47,
   "metadata": {},
   "outputs": [
    {
     "data": {
      "text/plain": [
       "(ftplib.Error, OSError, EOFError, ssl.SSLError)"
      ]
     },
     "execution_count": 47,
     "metadata": {},
     "output_type": "execute_result"
    }
   ],
   "source": [
    "ftplib.all_errors"
   ]
  },
  {
   "cell_type": "code",
   "execution_count": 54,
   "metadata": {},
   "outputs": [
    {
     "ename": "ImportError",
     "evalue": "cannot import name 'OSError' from 'ftplib' (C:\\Users\\higor.monteiro\\AppData\\Local\\anaconda3\\envs\\sevig\\Lib\\ftplib.py)",
     "output_type": "error",
     "traceback": [
      "\u001b[1;31m---------------------------------------------------------------------------\u001b[0m",
      "\u001b[1;31mImportError\u001b[0m                               Traceback (most recent call last)",
      "Cell \u001b[1;32mIn[54], line 1\u001b[0m\n\u001b[1;32m----> 1\u001b[0m \u001b[38;5;28;01mfrom\u001b[39;00m \u001b[38;5;21;01mftplib\u001b[39;00m \u001b[38;5;28;01mimport\u001b[39;00m \u001b[38;5;167;01mOSError\u001b[39;00m\n",
      "\u001b[1;31mImportError\u001b[0m: cannot import name 'OSError' from 'ftplib' (C:\\Users\\higor.monteiro\\AppData\\Local\\anaconda3\\envs\\sevig\\Lib\\ftplib.py)"
     ]
    }
   ],
   "source": [
    "from ftplib import OSError"
   ]
  },
  {
   "cell_type": "code",
   "execution_count": 60,
   "metadata": {},
   "outputs": [],
   "source": [
    "ex = FTP(host)"
   ]
  },
  {
   "cell_type": "code",
   "execution_count": 61,
   "metadata": {},
   "outputs": [
    {
     "data": {
      "text/plain": [
       "'230 User logged in.'"
      ]
     },
     "execution_count": 61,
     "metadata": {},
     "output_type": "execute_result"
    }
   ],
   "source": [
    "ex.login()"
   ]
  },
  {
   "cell_type": "code",
   "execution_count": 65,
   "metadata": {},
   "outputs": [
    {
     "ename": "ConnectionResetError",
     "evalue": "[WinError 10054] Foi forçado o cancelamento de uma conexão existente pelo host remoto",
     "output_type": "error",
     "traceback": [
      "\u001b[1;31m---------------------------------------------------------------------------\u001b[0m",
      "\u001b[1;31mConnectionResetError\u001b[0m                      Traceback (most recent call last)",
      "Cell \u001b[1;32mIn[65], line 1\u001b[0m\n\u001b[1;32m----> 1\u001b[0m \u001b[43mobj\u001b[49m\u001b[38;5;241;43m.\u001b[39;49m\u001b[43mbaseftp\u001b[49m\u001b[38;5;241;43m.\u001b[39;49m\u001b[43mpwd\u001b[49m\u001b[43m(\u001b[49m\u001b[43m)\u001b[49m\n",
      "File \u001b[1;32m~\\AppData\\Local\\anaconda3\\envs\\sevig\\Lib\\ftplib.py:650\u001b[0m, in \u001b[0;36mFTP.pwd\u001b[1;34m(self)\u001b[0m\n\u001b[0;32m    648\u001b[0m \u001b[38;5;28;01mdef\u001b[39;00m \u001b[38;5;21mpwd\u001b[39m(\u001b[38;5;28mself\u001b[39m):\n\u001b[0;32m    649\u001b[0m \u001b[38;5;250m    \u001b[39m\u001b[38;5;124;03m'''Return current working directory.'''\u001b[39;00m\n\u001b[1;32m--> 650\u001b[0m     resp \u001b[38;5;241m=\u001b[39m \u001b[38;5;28;43mself\u001b[39;49m\u001b[38;5;241;43m.\u001b[39;49m\u001b[43mvoidcmd\u001b[49m\u001b[43m(\u001b[49m\u001b[38;5;124;43m'\u001b[39;49m\u001b[38;5;124;43mPWD\u001b[39;49m\u001b[38;5;124;43m'\u001b[39;49m\u001b[43m)\u001b[49m\n\u001b[0;32m    651\u001b[0m     \u001b[38;5;66;03m# fix around non-compliant implementations such as IIS shipped\u001b[39;00m\n\u001b[0;32m    652\u001b[0m     \u001b[38;5;66;03m# with Windows server 2003\u001b[39;00m\n\u001b[0;32m    653\u001b[0m     \u001b[38;5;28;01mif\u001b[39;00m \u001b[38;5;129;01mnot\u001b[39;00m resp\u001b[38;5;241m.\u001b[39mstartswith(\u001b[38;5;124m'\u001b[39m\u001b[38;5;124m257\u001b[39m\u001b[38;5;124m'\u001b[39m):\n",
      "File \u001b[1;32m~\\AppData\\Local\\anaconda3\\envs\\sevig\\Lib\\ftplib.py:285\u001b[0m, in \u001b[0;36mFTP.voidcmd\u001b[1;34m(self, cmd)\u001b[0m\n\u001b[0;32m    283\u001b[0m \u001b[38;5;28;01mdef\u001b[39;00m \u001b[38;5;21mvoidcmd\u001b[39m(\u001b[38;5;28mself\u001b[39m, cmd):\n\u001b[0;32m    284\u001b[0m \u001b[38;5;250m    \u001b[39m\u001b[38;5;124;03m\"\"\"Send a command and expect a response beginning with '2'.\"\"\"\u001b[39;00m\n\u001b[1;32m--> 285\u001b[0m     \u001b[38;5;28;43mself\u001b[39;49m\u001b[38;5;241;43m.\u001b[39;49m\u001b[43mputcmd\u001b[49m\u001b[43m(\u001b[49m\u001b[43mcmd\u001b[49m\u001b[43m)\u001b[49m\n\u001b[0;32m    286\u001b[0m     \u001b[38;5;28;01mreturn\u001b[39;00m \u001b[38;5;28mself\u001b[39m\u001b[38;5;241m.\u001b[39mvoidresp()\n",
      "File \u001b[1;32m~\\AppData\\Local\\anaconda3\\envs\\sevig\\Lib\\ftplib.py:207\u001b[0m, in \u001b[0;36mFTP.putcmd\u001b[1;34m(self, line)\u001b[0m\n\u001b[0;32m    205\u001b[0m \u001b[38;5;28;01mdef\u001b[39;00m \u001b[38;5;21mputcmd\u001b[39m(\u001b[38;5;28mself\u001b[39m, line):\n\u001b[0;32m    206\u001b[0m     \u001b[38;5;28;01mif\u001b[39;00m \u001b[38;5;28mself\u001b[39m\u001b[38;5;241m.\u001b[39mdebugging: \u001b[38;5;28mprint\u001b[39m(\u001b[38;5;124m'\u001b[39m\u001b[38;5;124m*cmd*\u001b[39m\u001b[38;5;124m'\u001b[39m, \u001b[38;5;28mself\u001b[39m\u001b[38;5;241m.\u001b[39msanitize(line))\n\u001b[1;32m--> 207\u001b[0m     \u001b[38;5;28;43mself\u001b[39;49m\u001b[38;5;241;43m.\u001b[39;49m\u001b[43mputline\u001b[49m\u001b[43m(\u001b[49m\u001b[43mline\u001b[49m\u001b[43m)\u001b[49m\n",
      "File \u001b[1;32m~\\AppData\\Local\\anaconda3\\envs\\sevig\\Lib\\ftplib.py:202\u001b[0m, in \u001b[0;36mFTP.putline\u001b[1;34m(self, line)\u001b[0m\n\u001b[0;32m    200\u001b[0m \u001b[38;5;28;01mif\u001b[39;00m \u001b[38;5;28mself\u001b[39m\u001b[38;5;241m.\u001b[39mdebugging \u001b[38;5;241m>\u001b[39m \u001b[38;5;241m1\u001b[39m:\n\u001b[0;32m    201\u001b[0m     \u001b[38;5;28mprint\u001b[39m(\u001b[38;5;124m'\u001b[39m\u001b[38;5;124m*put*\u001b[39m\u001b[38;5;124m'\u001b[39m, \u001b[38;5;28mself\u001b[39m\u001b[38;5;241m.\u001b[39msanitize(line))\n\u001b[1;32m--> 202\u001b[0m \u001b[38;5;28;43mself\u001b[39;49m\u001b[38;5;241;43m.\u001b[39;49m\u001b[43msock\u001b[49m\u001b[38;5;241;43m.\u001b[39;49m\u001b[43msendall\u001b[49m\u001b[43m(\u001b[49m\u001b[43mline\u001b[49m\u001b[38;5;241;43m.\u001b[39;49m\u001b[43mencode\u001b[49m\u001b[43m(\u001b[49m\u001b[38;5;28;43mself\u001b[39;49m\u001b[38;5;241;43m.\u001b[39;49m\u001b[43mencoding\u001b[49m\u001b[43m)\u001b[49m\u001b[43m)\u001b[49m\n",
      "\u001b[1;31mConnectionResetError\u001b[0m: [WinError 10054] Foi forçado o cancelamento de uma conexão existente pelo host remoto"
     ]
    }
   ],
   "source": [
    "obj.baseftp.pwd()"
   ]
  },
  {
   "cell_type": "code",
   "execution_count": null,
   "metadata": {},
   "outputs": [],
   "source": []
  }
 ],
 "metadata": {
  "kernelspec": {
   "display_name": "Python 3 (ipykernel)",
   "language": "python",
   "name": "python3"
  },
  "language_info": {
   "codemirror_mode": {
    "name": "ipython",
    "version": 3
   },
   "file_extension": ".py",
   "mimetype": "text/x-python",
   "name": "python",
   "nbconvert_exporter": "python",
   "pygments_lexer": "ipython3",
   "version": "3.11.5"
  }
 },
 "nbformat": 4,
 "nbformat_minor": 4
}
