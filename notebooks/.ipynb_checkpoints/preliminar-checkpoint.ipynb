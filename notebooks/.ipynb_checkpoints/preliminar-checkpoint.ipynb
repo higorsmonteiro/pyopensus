{
 "cells": [
  {
   "cell_type": "code",
   "execution_count": 30,
   "metadata": {},
   "outputs": [],
   "source": [
    "import os\n",
    "import ftplib\n",
    "from ftplib import FTP\n",
    "\n",
    "import datetime as dt"
   ]
  },
  {
   "cell_type": "code",
   "execution_count": 31,
   "metadata": {},
   "outputs": [],
   "source": [
    "host = 'ftp.datasus.gov.br'"
   ]
  },
  {
   "cell_type": "code",
   "execution_count": 35,
   "metadata": {},
   "outputs": [],
   "source": [
    "class Opensus:\n",
    "    '''\n",
    "    \n",
    "    '''\n",
    "    def __init__(self) -> None:\n",
    "        self.host = 'ftp.datasus.gov.br'\n",
    "        self.baseftp = FTP(self.host)\n",
    "        self.baseftp.login()\n",
    "        self.basepath = '/dissemin/publicos/'\n",
    "        \n",
    "        self.sys_included = {'sihsus': self.basepath+'SIHSUS/200801_/Dados/', \n",
    "                             'siasus': self.basepath+'SIASUS/200801_/Dados/'}\n",
    "        \n",
    "    def listdir(self, origin=None):\n",
    "        '''\n",
    "            ...\n",
    "        '''\n",
    "        if origin is None:\n",
    "            self.baseftp.cwd('/dissemin/publicos/')\n",
    "            self.baseftp.retrlines('LIST')\n",
    "        else:\n",
    "            if origin.lower() in self.sys_included.keys():\n",
    "                self.baseftp.cwd(self.sys_included[origin.lower()])\n",
    "                self.baseftp.retrlines('LIST')\n",
    "                \n",
    "    def retrieve_year(self, dest, origin, uf, year, mode=\"RD\", verbose=False):\n",
    "        '''\n",
    "            ...\n",
    "        '''\n",
    "        this_year = dt.date.today().year\n",
    "        if year < 2008 or year > 2023:\n",
    "            raise Exception() # --\n",
    "            \n",
    "        if origin.lower() not in self.sys_included.keys():\n",
    "            raise Exception() # --\n",
    "        else:\n",
    "            self.baseftp.cwd(self.sys_included[origin.lower()])\n",
    "            \n",
    "        year_str = f'{year}'[2:]\n",
    "        filename = f\"{mode}{uf.upper()}{year_str}\"\n",
    "        month_lst = ['01', '02', '03', '04', '05', '06', '07',\n",
    "                     '08', '09', '10', '11', '12']\n",
    "            \n",
    "        for cur_month in month_lst:\n",
    "            filename_ = f'{filename}{cur_month}.dbc'\n",
    "            if verbose:\n",
    "                print(f'Download do arquivo {filename_} ...', end='')\n",
    "                \n",
    "            with open(os.path.join(dest, filename_), 'wb') as fp:\n",
    "                self.baseftp.retrbinary(f'RETR {filename_}', fp.write)\n",
    "                \n",
    "            if verbose:\n",
    "                print(' Feito.')\n",
    "                \n",
    "        \n",
    "        "
   ]
  },
  {
   "cell_type": "code",
   "execution_count": 36,
   "metadata": {},
   "outputs": [],
   "source": [
    "obj = Opensus()"
   ]
  },
  {
   "cell_type": "code",
   "execution_count": 37,
   "metadata": {},
   "outputs": [],
   "source": [
    "#obj.listdir(origin='SIHSUS')"
   ]
  },
  {
   "cell_type": "code",
   "execution_count": 38,
   "metadata": {},
   "outputs": [
    {
     "name": "stdout",
     "output_type": "stream",
     "text": [
      "Download do arquivo RDCE0801.dbc ... Feito.\n",
      "Download do arquivo RDCE0802.dbc ... Feito.\n",
      "Download do arquivo RDCE0803.dbc ... Feito.\n",
      "Download do arquivo RDCE0804.dbc ... Feito.\n",
      "Download do arquivo RDCE0805.dbc ... Feito.\n",
      "Download do arquivo RDCE0806.dbc ... Feito.\n",
      "Download do arquivo RDCE0807.dbc ... Feito.\n",
      "Download do arquivo RDCE0808.dbc ... Feito.\n",
      "Download do arquivo RDCE0809.dbc ... Feito.\n",
      "Download do arquivo RDCE0810.dbc ... Feito.\n",
      "Download do arquivo RDCE0811.dbc ... Feito.\n",
      "Download do arquivo RDCE0812.dbc ... Feito.\n"
     ]
    }
   ],
   "source": [
    "dest = os.path.join(os.environ['HOMEPATH'], 'Documents', 'data', 'opendatasus', 'sihsus')\n",
    "\n",
    "obj.retrieve_year(dest, 'sihsus', 'ce', 2008, mode='RD', verbose=True)"
   ]
  },
  {
   "cell_type": "code",
   "execution_count": null,
   "metadata": {},
   "outputs": [],
   "source": []
  }
 ],
 "metadata": {
  "kernelspec": {
   "display_name": "Python 3 (ipykernel)",
   "language": "python",
   "name": "python3"
  },
  "language_info": {
   "codemirror_mode": {
    "name": "ipython",
    "version": 3
   },
   "file_extension": ".py",
   "mimetype": "text/x-python",
   "name": "python",
   "nbconvert_exporter": "python",
   "pygments_lexer": "ipython3",
   "version": "3.11.5"
  }
 },
 "nbformat": 4,
 "nbformat_minor": 4
}
